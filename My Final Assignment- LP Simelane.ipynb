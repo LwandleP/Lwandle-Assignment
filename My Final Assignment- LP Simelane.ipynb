{
    "cells": [
        {
            "metadata": {
                "collapsed": true
            },
            "cell_type": "markdown",
            "source": " # My Jupyter Notebook on Watson Studio <h1>"
        },
        {
            "metadata": {},
            "cell_type": "markdown",
            "source": "**Lwandle Simelane**\n\nProject Manager"
        },
        {
            "metadata": {},
            "cell_type": "markdown",
            "source": "*I am interested in data science because it holds promise to addressing challenges in organisations. It is the cornerstone of evidence based decision making.* "
        },
        {
            "metadata": {},
            "cell_type": "markdown",
            "source": "### Classify important organisational activities <h3>"
        },
        {
            "metadata": {},
            "cell_type": "code",
            "source": "6+6",
            "execution_count": null,
            "outputs": []
        },
        {
            "metadata": {},
            "cell_type": "code",
            "source": "-Accounting\n\n-bookkeeping\n\-nwriteups\n\n1.Monday \n\n2.Tuesday \n\n3. Wednesday\n\nData is gold. ~~Knowledge is crucial~~",
            "execution_count": null,
            "outputs": []
        }
    ],
    "metadata": {
        "kernelspec": {
            "name": "python3",
            "display_name": "Python 3.8",
            "language": "python"
        },
        "language_info": {
            "name": "python",
            "version": "3.8.10",
            "mimetype": "text/x-python",
            "codemirror_mode": {
                "name": "ipython",
                "version": 3
            },
            "pygments_lexer": "ipython3",
            "nbconvert_exporter": "python",
            "file_extension": ".py"
        }
    },
    "nbformat": 4,
    "nbformat_minor": 1
}
