{
    "cells": [
        {
            "metadata": {
                "collapsed": true
            },
            "cell_type": "markdown",
            "source": "My Jupyter Notebook on Watson Studio"
        },
        {
            "metadata": {},
            "cell_type": "markdown",
            "source": "Lwandle Simelane\n\nProject Manager"
        },
        {
            "metadata": {},
            "cell_type": "markdown",
            "source": "I am interested in data science because it holds promise to addressing challenges in organisations. It is the cornerstone of evidence based decision making. "
        },
        {
            "metadata": {},
            "cell_type": "markdown",
            "source": "Classify important organisational activities"
        },
        {
            "metadata": {},
            "cell_type": "code",
            "source": "6+6",
            "execution_count": null,
            "outputs": []
        },
        {
            "metadata": {},
            "cell_type": "code",
            "source": "Accounting\n\nbookkeeping\n\nwriteups\n\nMonday \n\nTuesday \n\nWednesday\n\nData is gold. Knowledge is crucial",
            "execution_count": null,
            "outputs": []
        }
    ],
    "metadata": {
        "kernelspec": {
            "name": "python3",
            "display_name": "Python 3.8",
            "language": "python"
        },
        "language_info": {
            "name": "python",
            "version": "3.8.10",
            "mimetype": "text/x-python",
            "codemirror_mode": {
                "name": "ipython",
                "version": 3
            },
            "pygments_lexer": "ipython3",
            "nbconvert_exporter": "python",
            "file_extension": ".py"
        }
    },
    "nbformat": 4,
    "nbformat_minor": 1
}